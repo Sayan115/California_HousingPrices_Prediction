{
 "cells": [
  {
   "cell_type": "markdown",
   "id": "ea6ba521",
   "metadata": {},
   "source": [
    "# California Housing Prices"
   ]
  },
  {
   "cell_type": "code",
   "execution_count": 54,
   "id": "2d9fe1f1",
   "metadata": {},
   "outputs": [],
   "source": [
    "# EDA libraries\n",
    "import numpy as np # linear algebra\n",
    "import pandas as pd # data preprocessing\n",
    "import matplotlib.pyplot as plt # data visualization library\n",
    "import seaborn as sns # data visualization library\n",
    "\n",
    "# Sampling libraries\n",
    "from sklearn.model_selection import train_test_split\n",
    "\n",
    "# Data Transformation libraries\n",
    "from sklearn.impute import SimpleImputer\n",
    "from sklearn.preprocessing import StandardScaler\n",
    "from sklearn.preprocessing import OneHotEncoder\n",
    "from sklearn.preprocessing import OrdinalEncoder\n",
    "\n",
    "# Custom Transformation\n",
    "from sklearn.base import BaseEstimator, TransformerMixin\n",
    "\n",
    "# Data Pipelines\n",
    "from sklearn.pipeline import Pipeline\n",
    "from sklearn.compose import ColumnTransformer\n",
    "\n",
    "# Machine Learning Models and Evaluation\n",
    "from sklearn.linear_model import LinearRegression\n",
    "from sklearn.linear_model import SGDRegressor\n",
    "from sklearn.svm import SVR\n",
    "from sklearn.tree import DecisionTreeRegressor\n",
    "from sklearn.ensemble import RandomForestRegressor\n",
    "from sklearn.metrics import mean_squared_error\n",
    "from sklearn.metrics import r2_score\n"
   ]
  },
  {
   "cell_type": "code",
   "execution_count": 3,
   "id": "4e4a4339",
   "metadata": {},
   "outputs": [],
   "source": [
    "# Custom Evaluation Metric\n",
    "def rmse(y,y_hat):\n",
    "    return np.sqrt(mean_squared_error(y,y_hat))"
   ]
  },
  {
   "cell_type": "code",
   "execution_count": 22,
   "id": "2f5657a0",
   "metadata": {},
   "outputs": [],
   "source": [
    "# Custom Transformer to create add new Columns to the data\n",
    "room_ix, bedrooms_ix, population_ix, households_ix= 3, 4, 5, 6\n",
    "\n",
    "class CombinedAttributesAdder(BaseEstimator, TransformerMixin):\n",
    "    def __init__(self, add_bedrooms_per_room= True):\n",
    "        self.add_bedrooms_per_room=add_bedrooms_per_room\n",
    "    def fit(self,X, y=None):\n",
    "        return self\n",
    "    def transform(self, X, y=None):\n",
    "        rooms_per_household=X[:,room_ix]/X[:, households_ix]\n",
    "        population_per_household=X[:,population_ix]/X[:,households_ix]\n",
    "        if self.add_bedrooms_per_room:\n",
    "            bedrooms_per_room=X[:,bedrooms_ix]/X[:,room_ix]\n",
    "            return np.c_[X,rooms_per_household,population_per_household,\n",
    "                        bedrooms_per_room]\n",
    "        else:\n",
    "            return np.c_[X,rooms_per_household,population_per_household]"
   ]
  },
  {
   "cell_type": "code",
   "execution_count": 5,
   "id": "a83db5b7",
   "metadata": {},
   "outputs": [
    {
     "data": {
      "text/html": [
       "<div>\n",
       "<style scoped>\n",
       "    .dataframe tbody tr th:only-of-type {\n",
       "        vertical-align: middle;\n",
       "    }\n",
       "\n",
       "    .dataframe tbody tr th {\n",
       "        vertical-align: top;\n",
       "    }\n",
       "\n",
       "    .dataframe thead th {\n",
       "        text-align: right;\n",
       "    }\n",
       "</style>\n",
       "<table border=\"1\" class=\"dataframe\">\n",
       "  <thead>\n",
       "    <tr style=\"text-align: right;\">\n",
       "      <th></th>\n",
       "      <th>longitude</th>\n",
       "      <th>latitude</th>\n",
       "      <th>housing_median_age</th>\n",
       "      <th>total_rooms</th>\n",
       "      <th>total_bedrooms</th>\n",
       "      <th>population</th>\n",
       "      <th>households</th>\n",
       "      <th>median_income</th>\n",
       "      <th>median_house_value</th>\n",
       "      <th>ocean_proximity</th>\n",
       "    </tr>\n",
       "  </thead>\n",
       "  <tbody>\n",
       "    <tr>\n",
       "      <th>0</th>\n",
       "      <td>-122.23</td>\n",
       "      <td>37.88</td>\n",
       "      <td>41.0</td>\n",
       "      <td>880.0</td>\n",
       "      <td>129.0</td>\n",
       "      <td>322.0</td>\n",
       "      <td>126.0</td>\n",
       "      <td>8.3252</td>\n",
       "      <td>452600.0</td>\n",
       "      <td>NEAR BAY</td>\n",
       "    </tr>\n",
       "    <tr>\n",
       "      <th>1</th>\n",
       "      <td>-122.22</td>\n",
       "      <td>37.86</td>\n",
       "      <td>21.0</td>\n",
       "      <td>7099.0</td>\n",
       "      <td>1106.0</td>\n",
       "      <td>2401.0</td>\n",
       "      <td>1138.0</td>\n",
       "      <td>8.3014</td>\n",
       "      <td>358500.0</td>\n",
       "      <td>NEAR BAY</td>\n",
       "    </tr>\n",
       "    <tr>\n",
       "      <th>2</th>\n",
       "      <td>-122.24</td>\n",
       "      <td>37.85</td>\n",
       "      <td>52.0</td>\n",
       "      <td>1467.0</td>\n",
       "      <td>190.0</td>\n",
       "      <td>496.0</td>\n",
       "      <td>177.0</td>\n",
       "      <td>7.2574</td>\n",
       "      <td>352100.0</td>\n",
       "      <td>NEAR BAY</td>\n",
       "    </tr>\n",
       "    <tr>\n",
       "      <th>3</th>\n",
       "      <td>-122.25</td>\n",
       "      <td>37.85</td>\n",
       "      <td>52.0</td>\n",
       "      <td>1274.0</td>\n",
       "      <td>235.0</td>\n",
       "      <td>558.0</td>\n",
       "      <td>219.0</td>\n",
       "      <td>5.6431</td>\n",
       "      <td>341300.0</td>\n",
       "      <td>NEAR BAY</td>\n",
       "    </tr>\n",
       "    <tr>\n",
       "      <th>4</th>\n",
       "      <td>-122.25</td>\n",
       "      <td>37.85</td>\n",
       "      <td>52.0</td>\n",
       "      <td>1627.0</td>\n",
       "      <td>280.0</td>\n",
       "      <td>565.0</td>\n",
       "      <td>259.0</td>\n",
       "      <td>3.8462</td>\n",
       "      <td>342200.0</td>\n",
       "      <td>NEAR BAY</td>\n",
       "    </tr>\n",
       "  </tbody>\n",
       "</table>\n",
       "</div>"
      ],
      "text/plain": [
       "   longitude  latitude  housing_median_age  total_rooms  total_bedrooms  \\\n",
       "0    -122.23     37.88                41.0        880.0           129.0   \n",
       "1    -122.22     37.86                21.0       7099.0          1106.0   \n",
       "2    -122.24     37.85                52.0       1467.0           190.0   \n",
       "3    -122.25     37.85                52.0       1274.0           235.0   \n",
       "4    -122.25     37.85                52.0       1627.0           280.0   \n",
       "\n",
       "   population  households  median_income  median_house_value ocean_proximity  \n",
       "0       322.0       126.0         8.3252            452600.0        NEAR BAY  \n",
       "1      2401.0      1138.0         8.3014            358500.0        NEAR BAY  \n",
       "2       496.0       177.0         7.2574            352100.0        NEAR BAY  \n",
       "3       558.0       219.0         5.6431            341300.0        NEAR BAY  \n",
       "4       565.0       259.0         3.8462            342200.0        NEAR BAY  "
      ]
     },
     "execution_count": 5,
     "metadata": {},
     "output_type": "execute_result"
    }
   ],
   "source": [
    "# Load Data\n",
    "def get_data(dataset_name):\n",
    "    return pd.read_csv(dataset_name)\n",
    "housing=get_data(\"housing.csv\")\n",
    "housing.head()\n",
    "\n",
    "# features-> longitude, latitude, housing_median_age, total_rooms, total_bedrooms, population, households, median_income, ocean_proximity\n",
    "# target-> median_house_value"
   ]
  },
  {
   "cell_type": "code",
   "execution_count": 6,
   "id": "b1487a91",
   "metadata": {},
   "outputs": [],
   "source": [
    "X= housing.drop(\"median_house_value\",axis=1)\n",
    "y= housing[\"median_house_value\"]"
   ]
  },
  {
   "cell_type": "code",
   "execution_count": 7,
   "id": "72d3ea9f",
   "metadata": {},
   "outputs": [
    {
     "data": {
      "text/html": [
       "<div>\n",
       "<style scoped>\n",
       "    .dataframe tbody tr th:only-of-type {\n",
       "        vertical-align: middle;\n",
       "    }\n",
       "\n",
       "    .dataframe tbody tr th {\n",
       "        vertical-align: top;\n",
       "    }\n",
       "\n",
       "    .dataframe thead th {\n",
       "        text-align: right;\n",
       "    }\n",
       "</style>\n",
       "<table border=\"1\" class=\"dataframe\">\n",
       "  <thead>\n",
       "    <tr style=\"text-align: right;\">\n",
       "      <th></th>\n",
       "      <th>longitude</th>\n",
       "      <th>latitude</th>\n",
       "      <th>housing_median_age</th>\n",
       "      <th>total_rooms</th>\n",
       "      <th>total_bedrooms</th>\n",
       "      <th>population</th>\n",
       "      <th>households</th>\n",
       "      <th>median_income</th>\n",
       "      <th>ocean_proximity</th>\n",
       "    </tr>\n",
       "  </thead>\n",
       "  <tbody>\n",
       "    <tr>\n",
       "      <th>0</th>\n",
       "      <td>-122.23</td>\n",
       "      <td>37.88</td>\n",
       "      <td>41.0</td>\n",
       "      <td>880.0</td>\n",
       "      <td>129.0</td>\n",
       "      <td>322.0</td>\n",
       "      <td>126.0</td>\n",
       "      <td>8.3252</td>\n",
       "      <td>NEAR BAY</td>\n",
       "    </tr>\n",
       "    <tr>\n",
       "      <th>1</th>\n",
       "      <td>-122.22</td>\n",
       "      <td>37.86</td>\n",
       "      <td>21.0</td>\n",
       "      <td>7099.0</td>\n",
       "      <td>1106.0</td>\n",
       "      <td>2401.0</td>\n",
       "      <td>1138.0</td>\n",
       "      <td>8.3014</td>\n",
       "      <td>NEAR BAY</td>\n",
       "    </tr>\n",
       "    <tr>\n",
       "      <th>2</th>\n",
       "      <td>-122.24</td>\n",
       "      <td>37.85</td>\n",
       "      <td>52.0</td>\n",
       "      <td>1467.0</td>\n",
       "      <td>190.0</td>\n",
       "      <td>496.0</td>\n",
       "      <td>177.0</td>\n",
       "      <td>7.2574</td>\n",
       "      <td>NEAR BAY</td>\n",
       "    </tr>\n",
       "    <tr>\n",
       "      <th>3</th>\n",
       "      <td>-122.25</td>\n",
       "      <td>37.85</td>\n",
       "      <td>52.0</td>\n",
       "      <td>1274.0</td>\n",
       "      <td>235.0</td>\n",
       "      <td>558.0</td>\n",
       "      <td>219.0</td>\n",
       "      <td>5.6431</td>\n",
       "      <td>NEAR BAY</td>\n",
       "    </tr>\n",
       "    <tr>\n",
       "      <th>4</th>\n",
       "      <td>-122.25</td>\n",
       "      <td>37.85</td>\n",
       "      <td>52.0</td>\n",
       "      <td>1627.0</td>\n",
       "      <td>280.0</td>\n",
       "      <td>565.0</td>\n",
       "      <td>259.0</td>\n",
       "      <td>3.8462</td>\n",
       "      <td>NEAR BAY</td>\n",
       "    </tr>\n",
       "  </tbody>\n",
       "</table>\n",
       "</div>"
      ],
      "text/plain": [
       "   longitude  latitude  housing_median_age  total_rooms  total_bedrooms  \\\n",
       "0    -122.23     37.88                41.0        880.0           129.0   \n",
       "1    -122.22     37.86                21.0       7099.0          1106.0   \n",
       "2    -122.24     37.85                52.0       1467.0           190.0   \n",
       "3    -122.25     37.85                52.0       1274.0           235.0   \n",
       "4    -122.25     37.85                52.0       1627.0           280.0   \n",
       "\n",
       "   population  households  median_income ocean_proximity  \n",
       "0       322.0       126.0         8.3252        NEAR BAY  \n",
       "1      2401.0      1138.0         8.3014        NEAR BAY  \n",
       "2       496.0       177.0         7.2574        NEAR BAY  \n",
       "3       558.0       219.0         5.6431        NEAR BAY  \n",
       "4       565.0       259.0         3.8462        NEAR BAY  "
      ]
     },
     "execution_count": 7,
     "metadata": {},
     "output_type": "execute_result"
    }
   ],
   "source": [
    "X.head() # features"
   ]
  },
  {
   "cell_type": "code",
   "execution_count": 8,
   "id": "9a4be945",
   "metadata": {},
   "outputs": [
    {
     "data": {
      "text/plain": [
       "0    452600.0\n",
       "1    358500.0\n",
       "2    352100.0\n",
       "3    341300.0\n",
       "4    342200.0\n",
       "Name: median_house_value, dtype: float64"
      ]
     },
     "execution_count": 8,
     "metadata": {},
     "output_type": "execute_result"
    }
   ],
   "source": [
    "y.head() # target"
   ]
  },
  {
   "cell_type": "code",
   "execution_count": 9,
   "id": "b2cf1746",
   "metadata": {},
   "outputs": [],
   "source": [
    "# Sampling\n",
    "X_train, X_test, y_train, y_test= train_test_split(X,y,test_size=0.2, random_state=45)"
   ]
  },
  {
   "cell_type": "code",
   "execution_count": 10,
   "id": "e2b4e4b4",
   "metadata": {},
   "outputs": [
    {
     "data": {
      "text/html": [
       "<div>\n",
       "<style scoped>\n",
       "    .dataframe tbody tr th:only-of-type {\n",
       "        vertical-align: middle;\n",
       "    }\n",
       "\n",
       "    .dataframe tbody tr th {\n",
       "        vertical-align: top;\n",
       "    }\n",
       "\n",
       "    .dataframe thead th {\n",
       "        text-align: right;\n",
       "    }\n",
       "</style>\n",
       "<table border=\"1\" class=\"dataframe\">\n",
       "  <thead>\n",
       "    <tr style=\"text-align: right;\">\n",
       "      <th></th>\n",
       "      <th>longitude</th>\n",
       "      <th>latitude</th>\n",
       "      <th>housing_median_age</th>\n",
       "      <th>total_rooms</th>\n",
       "      <th>total_bedrooms</th>\n",
       "      <th>population</th>\n",
       "      <th>households</th>\n",
       "      <th>median_income</th>\n",
       "      <th>ocean_proximity</th>\n",
       "    </tr>\n",
       "  </thead>\n",
       "  <tbody>\n",
       "    <tr>\n",
       "      <th>13240</th>\n",
       "      <td>-117.67</td>\n",
       "      <td>34.12</td>\n",
       "      <td>15.0</td>\n",
       "      <td>3162.0</td>\n",
       "      <td>495.0</td>\n",
       "      <td>1145.0</td>\n",
       "      <td>473.0</td>\n",
       "      <td>5.3525</td>\n",
       "      <td>INLAND</td>\n",
       "    </tr>\n",
       "    <tr>\n",
       "      <th>12586</th>\n",
       "      <td>-121.50</td>\n",
       "      <td>38.53</td>\n",
       "      <td>37.0</td>\n",
       "      <td>3642.0</td>\n",
       "      <td>684.0</td>\n",
       "      <td>1508.0</td>\n",
       "      <td>657.0</td>\n",
       "      <td>3.5231</td>\n",
       "      <td>INLAND</td>\n",
       "    </tr>\n",
       "    <tr>\n",
       "      <th>13123</th>\n",
       "      <td>-121.26</td>\n",
       "      <td>38.27</td>\n",
       "      <td>20.0</td>\n",
       "      <td>1314.0</td>\n",
       "      <td>229.0</td>\n",
       "      <td>712.0</td>\n",
       "      <td>219.0</td>\n",
       "      <td>4.4125</td>\n",
       "      <td>INLAND</td>\n",
       "    </tr>\n",
       "    <tr>\n",
       "      <th>15456</th>\n",
       "      <td>-117.28</td>\n",
       "      <td>33.18</td>\n",
       "      <td>16.0</td>\n",
       "      <td>3002.0</td>\n",
       "      <td>591.0</td>\n",
       "      <td>842.0</td>\n",
       "      <td>538.0</td>\n",
       "      <td>2.1205</td>\n",
       "      <td>NEAR OCEAN</td>\n",
       "    </tr>\n",
       "    <tr>\n",
       "      <th>19798</th>\n",
       "      <td>-123.12</td>\n",
       "      <td>40.54</td>\n",
       "      <td>23.0</td>\n",
       "      <td>1091.0</td>\n",
       "      <td>217.0</td>\n",
       "      <td>539.0</td>\n",
       "      <td>201.0</td>\n",
       "      <td>1.8696</td>\n",
       "      <td>INLAND</td>\n",
       "    </tr>\n",
       "  </tbody>\n",
       "</table>\n",
       "</div>"
      ],
      "text/plain": [
       "       longitude  latitude  housing_median_age  total_rooms  total_bedrooms  \\\n",
       "13240    -117.67     34.12                15.0       3162.0           495.0   \n",
       "12586    -121.50     38.53                37.0       3642.0           684.0   \n",
       "13123    -121.26     38.27                20.0       1314.0           229.0   \n",
       "15456    -117.28     33.18                16.0       3002.0           591.0   \n",
       "19798    -123.12     40.54                23.0       1091.0           217.0   \n",
       "\n",
       "       population  households  median_income ocean_proximity  \n",
       "13240      1145.0       473.0         5.3525          INLAND  \n",
       "12586      1508.0       657.0         3.5231          INLAND  \n",
       "13123       712.0       219.0         4.4125          INLAND  \n",
       "15456       842.0       538.0         2.1205      NEAR OCEAN  \n",
       "19798       539.0       201.0         1.8696          INLAND  "
      ]
     },
     "execution_count": 10,
     "metadata": {},
     "output_type": "execute_result"
    }
   ],
   "source": [
    "X_train.head() # features in training data"
   ]
  },
  {
   "cell_type": "code",
   "execution_count": 11,
   "id": "43fa85db",
   "metadata": {},
   "outputs": [
    {
     "data": {
      "text/plain": [
       "13240    191700.0\n",
       "12586    114300.0\n",
       "13123    144600.0\n",
       "15456    157300.0\n",
       "19798     61500.0\n",
       "Name: median_house_value, dtype: float64"
      ]
     },
     "execution_count": 11,
     "metadata": {},
     "output_type": "execute_result"
    }
   ],
   "source": [
    "y_train.head() # target in training data"
   ]
  },
  {
   "cell_type": "code",
   "execution_count": 12,
   "id": "0146d7aa",
   "metadata": {},
   "outputs": [],
   "source": [
    "# segregating the features\n",
    "num_features=[\"longitude\",\"latitude\",\"housing_median_age\",\"total_rooms\",\n",
    "             \"total_bedrooms\",\"population\",\"households\",\"median_income\"]\n",
    "ordinal_features=[]\n",
    "nominal_features=[\"ocean_proximity\"]\n",
    "pass_through_cols=[]\n",
    "drop_cols=[]"
   ]
  },
  {
   "cell_type": "code",
   "execution_count": 23,
   "id": "bc5e8ba5",
   "metadata": {},
   "outputs": [],
   "source": [
    "# seperate pipelines for each type of features\n",
    "num_pipeline=Pipeline([(\"imputer\",SimpleImputer()),\n",
    "                       (\"add attribues\",CombinedAttributesAdder()),\n",
    "                     (\"std scaler\", StandardScaler())])\n",
    "nominal_pipeline=Pipeline([(\"one hot encoding\",OneHotEncoder())])"
   ]
  },
  {
   "cell_type": "code",
   "execution_count": 35,
   "id": "f144806f",
   "metadata": {},
   "outputs": [],
   "source": [
    "pipeline=ColumnTransformer([\n",
    "    (\"numerical pipeline\",num_pipeline,num_features),\n",
    "    (\"nominal pipeline\",nominal_pipeline,nominal_features),\n",
    "    (\"passing columns\",\"passthrough\",pass_through_cols),\n",
    "    (\"drop columns\",\"drop\",drop_cols)\n",
    "])"
   ]
  },
  {
   "cell_type": "code",
   "execution_count": 47,
   "id": "a6135df5",
   "metadata": {},
   "outputs": [],
   "source": [
    "# final columns in order after passing the data through pipeline\n",
    "output_cols=[\"longitude\",\"latitude\",\"housing_median_age\",\"total_rooms\",\n",
    "             \"total_bedrooms\",\"population\",\"households\",\"median_income\",\n",
    "             \"rooms_per_household\",\"population_per_household\",\n",
    "                        \"bedrooms_per_room\",\n",
    "            \"<1H OCEAN\",\"INLAND\",\"ISLAND\",\"NEAR BAY\",\"NEAR OCEAN\"]"
   ]
  },
  {
   "cell_type": "code",
   "execution_count": 48,
   "id": "f4b44d6a",
   "metadata": {},
   "outputs": [
    {
     "data": {
      "text/html": [
       "<div>\n",
       "<style scoped>\n",
       "    .dataframe tbody tr th:only-of-type {\n",
       "        vertical-align: middle;\n",
       "    }\n",
       "\n",
       "    .dataframe tbody tr th {\n",
       "        vertical-align: top;\n",
       "    }\n",
       "\n",
       "    .dataframe thead th {\n",
       "        text-align: right;\n",
       "    }\n",
       "</style>\n",
       "<table border=\"1\" class=\"dataframe\">\n",
       "  <thead>\n",
       "    <tr style=\"text-align: right;\">\n",
       "      <th></th>\n",
       "      <th>longitude</th>\n",
       "      <th>latitude</th>\n",
       "      <th>housing_median_age</th>\n",
       "      <th>total_rooms</th>\n",
       "      <th>total_bedrooms</th>\n",
       "      <th>population</th>\n",
       "      <th>households</th>\n",
       "      <th>median_income</th>\n",
       "      <th>ocean_proximity</th>\n",
       "    </tr>\n",
       "  </thead>\n",
       "  <tbody>\n",
       "    <tr>\n",
       "      <th>13240</th>\n",
       "      <td>-117.67</td>\n",
       "      <td>34.12</td>\n",
       "      <td>15.0</td>\n",
       "      <td>3162.0</td>\n",
       "      <td>495.0</td>\n",
       "      <td>1145.0</td>\n",
       "      <td>473.0</td>\n",
       "      <td>5.3525</td>\n",
       "      <td>INLAND</td>\n",
       "    </tr>\n",
       "    <tr>\n",
       "      <th>12586</th>\n",
       "      <td>-121.50</td>\n",
       "      <td>38.53</td>\n",
       "      <td>37.0</td>\n",
       "      <td>3642.0</td>\n",
       "      <td>684.0</td>\n",
       "      <td>1508.0</td>\n",
       "      <td>657.0</td>\n",
       "      <td>3.5231</td>\n",
       "      <td>INLAND</td>\n",
       "    </tr>\n",
       "  </tbody>\n",
       "</table>\n",
       "</div>"
      ],
      "text/plain": [
       "       longitude  latitude  housing_median_age  total_rooms  total_bedrooms  \\\n",
       "13240    -117.67     34.12                15.0       3162.0           495.0   \n",
       "12586    -121.50     38.53                37.0       3642.0           684.0   \n",
       "\n",
       "       population  households  median_income ocean_proximity  \n",
       "13240      1145.0       473.0         5.3525          INLAND  \n",
       "12586      1508.0       657.0         3.5231          INLAND  "
      ]
     },
     "execution_count": 48,
     "metadata": {},
     "output_type": "execute_result"
    }
   ],
   "source": [
    "X_train.head(2) # training data before transforming"
   ]
  },
  {
   "cell_type": "code",
   "execution_count": 49,
   "id": "6127c234",
   "metadata": {},
   "outputs": [
    {
     "data": {
      "text/html": [
       "<div>\n",
       "<style scoped>\n",
       "    .dataframe tbody tr th:only-of-type {\n",
       "        vertical-align: middle;\n",
       "    }\n",
       "\n",
       "    .dataframe tbody tr th {\n",
       "        vertical-align: top;\n",
       "    }\n",
       "\n",
       "    .dataframe thead th {\n",
       "        text-align: right;\n",
       "    }\n",
       "</style>\n",
       "<table border=\"1\" class=\"dataframe\">\n",
       "  <thead>\n",
       "    <tr style=\"text-align: right;\">\n",
       "      <th></th>\n",
       "      <th>longitude</th>\n",
       "      <th>latitude</th>\n",
       "      <th>housing_median_age</th>\n",
       "      <th>total_rooms</th>\n",
       "      <th>total_bedrooms</th>\n",
       "      <th>population</th>\n",
       "      <th>households</th>\n",
       "      <th>median_income</th>\n",
       "      <th>rooms_per_household</th>\n",
       "      <th>population_per_household</th>\n",
       "      <th>bedrooms_per_room</th>\n",
       "      <th>&lt;1H OCEAN</th>\n",
       "      <th>INLAND</th>\n",
       "      <th>ISLAND</th>\n",
       "      <th>NEAR BAY</th>\n",
       "      <th>NEAR OCEAN</th>\n",
       "    </tr>\n",
       "  </thead>\n",
       "  <tbody>\n",
       "    <tr>\n",
       "      <th>0</th>\n",
       "      <td>0.943824</td>\n",
       "      <td>-0.704828</td>\n",
       "      <td>-1.086181</td>\n",
       "      <td>0.240758</td>\n",
       "      <td>-0.102708</td>\n",
       "      <td>-0.250026</td>\n",
       "      <td>-0.068377</td>\n",
       "      <td>0.780490</td>\n",
       "      <td>0.487808</td>\n",
       "      <td>-0.059173</td>\n",
       "      <td>-0.846552</td>\n",
       "      <td>0.0</td>\n",
       "      <td>1.0</td>\n",
       "      <td>0.0</td>\n",
       "      <td>0.0</td>\n",
       "      <td>0.0</td>\n",
       "    </tr>\n",
       "    <tr>\n",
       "      <th>1</th>\n",
       "      <td>-0.968715</td>\n",
       "      <td>1.359545</td>\n",
       "      <td>0.660456</td>\n",
       "      <td>0.459582</td>\n",
       "      <td>0.347450</td>\n",
       "      <td>0.077362</td>\n",
       "      <td>0.413777</td>\n",
       "      <td>-0.179806</td>\n",
       "      <td>0.043346</td>\n",
       "      <td>-0.070666</td>\n",
       "      <td>-0.390882</td>\n",
       "      <td>0.0</td>\n",
       "      <td>1.0</td>\n",
       "      <td>0.0</td>\n",
       "      <td>0.0</td>\n",
       "      <td>0.0</td>\n",
       "    </tr>\n",
       "  </tbody>\n",
       "</table>\n",
       "</div>"
      ],
      "text/plain": [
       "   longitude  latitude  housing_median_age  total_rooms  total_bedrooms  \\\n",
       "0   0.943824 -0.704828           -1.086181     0.240758       -0.102708   \n",
       "1  -0.968715  1.359545            0.660456     0.459582        0.347450   \n",
       "\n",
       "   population  households  median_income  rooms_per_household  \\\n",
       "0   -0.250026   -0.068377       0.780490             0.487808   \n",
       "1    0.077362    0.413777      -0.179806             0.043346   \n",
       "\n",
       "   population_per_household  bedrooms_per_room  <1H OCEAN  INLAND  ISLAND  \\\n",
       "0                 -0.059173          -0.846552        0.0     1.0     0.0   \n",
       "1                 -0.070666          -0.390882        0.0     1.0     0.0   \n",
       "\n",
       "   NEAR BAY  NEAR OCEAN  \n",
       "0       0.0         0.0  \n",
       "1       0.0         0.0  "
      ]
     },
     "execution_count": 49,
     "metadata": {},
     "output_type": "execute_result"
    }
   ],
   "source": [
    "X_train_tr=pipeline.fit_transform(X_train)\n",
    "X_train_tr=pd.DataFrame(X_train_tr,columns=output_cols)\n",
    "X_train_tr.head(2) # training data after transforming"
   ]
  },
  {
   "cell_type": "code",
   "execution_count": 59,
   "id": "403f6d3c",
   "metadata": {},
   "outputs": [
    {
     "data": {
      "text/html": [
       "<div>\n",
       "<style scoped>\n",
       "    .dataframe tbody tr th:only-of-type {\n",
       "        vertical-align: middle;\n",
       "    }\n",
       "\n",
       "    .dataframe tbody tr th {\n",
       "        vertical-align: top;\n",
       "    }\n",
       "\n",
       "    .dataframe thead th {\n",
       "        text-align: right;\n",
       "    }\n",
       "</style>\n",
       "<table border=\"1\" class=\"dataframe\">\n",
       "  <thead>\n",
       "    <tr style=\"text-align: right;\">\n",
       "      <th></th>\n",
       "      <th>longitude</th>\n",
       "      <th>latitude</th>\n",
       "      <th>housing_median_age</th>\n",
       "      <th>total_rooms</th>\n",
       "      <th>total_bedrooms</th>\n",
       "      <th>population</th>\n",
       "      <th>households</th>\n",
       "      <th>median_income</th>\n",
       "      <th>ocean_proximity</th>\n",
       "    </tr>\n",
       "  </thead>\n",
       "  <tbody>\n",
       "    <tr>\n",
       "      <th>3046</th>\n",
       "      <td>-119.28</td>\n",
       "      <td>35.50</td>\n",
       "      <td>34.0</td>\n",
       "      <td>1923.0</td>\n",
       "      <td>379.0</td>\n",
       "      <td>1101.0</td>\n",
       "      <td>351.0</td>\n",
       "      <td>2.4044</td>\n",
       "      <td>INLAND</td>\n",
       "    </tr>\n",
       "    <tr>\n",
       "      <th>6803</th>\n",
       "      <td>-118.13</td>\n",
       "      <td>34.08</td>\n",
       "      <td>40.0</td>\n",
       "      <td>1931.0</td>\n",
       "      <td>449.0</td>\n",
       "      <td>1367.0</td>\n",
       "      <td>446.0</td>\n",
       "      <td>2.5750</td>\n",
       "      <td>&lt;1H OCEAN</td>\n",
       "    </tr>\n",
       "  </tbody>\n",
       "</table>\n",
       "</div>"
      ],
      "text/plain": [
       "      longitude  latitude  housing_median_age  total_rooms  total_bedrooms  \\\n",
       "3046    -119.28     35.50                34.0       1923.0           379.0   \n",
       "6803    -118.13     34.08                40.0       1931.0           449.0   \n",
       "\n",
       "      population  households  median_income ocean_proximity  \n",
       "3046      1101.0       351.0         2.4044          INLAND  \n",
       "6803      1367.0       446.0         2.5750       <1H OCEAN  "
      ]
     },
     "execution_count": 59,
     "metadata": {},
     "output_type": "execute_result"
    }
   ],
   "source": [
    "X_test.head(2) # test data before transforming"
   ]
  },
  {
   "cell_type": "code",
   "execution_count": 57,
   "id": "5770d72d",
   "metadata": {},
   "outputs": [
    {
     "data": {
      "text/html": [
       "<div>\n",
       "<style scoped>\n",
       "    .dataframe tbody tr th:only-of-type {\n",
       "        vertical-align: middle;\n",
       "    }\n",
       "\n",
       "    .dataframe tbody tr th {\n",
       "        vertical-align: top;\n",
       "    }\n",
       "\n",
       "    .dataframe thead th {\n",
       "        text-align: right;\n",
       "    }\n",
       "</style>\n",
       "<table border=\"1\" class=\"dataframe\">\n",
       "  <thead>\n",
       "    <tr style=\"text-align: right;\">\n",
       "      <th></th>\n",
       "      <th>longitude</th>\n",
       "      <th>latitude</th>\n",
       "      <th>housing_median_age</th>\n",
       "      <th>total_rooms</th>\n",
       "      <th>total_bedrooms</th>\n",
       "      <th>population</th>\n",
       "      <th>households</th>\n",
       "      <th>median_income</th>\n",
       "      <th>rooms_per_household</th>\n",
       "      <th>population_per_household</th>\n",
       "      <th>bedrooms_per_room</th>\n",
       "      <th>&lt;1H OCEAN</th>\n",
       "      <th>INLAND</th>\n",
       "      <th>ISLAND</th>\n",
       "      <th>NEAR BAY</th>\n",
       "      <th>NEAR OCEAN</th>\n",
       "    </tr>\n",
       "  </thead>\n",
       "  <tbody>\n",
       "    <tr>\n",
       "      <th>0</th>\n",
       "      <td>0.163564</td>\n",
       "      <td>-0.073360</td>\n",
       "      <td>0.440681</td>\n",
       "      <td>-0.337690</td>\n",
       "      <td>-0.378690</td>\n",
       "      <td>-0.276086</td>\n",
       "      <td>-0.390347</td>\n",
       "      <td>-0.791295</td>\n",
       "      <td>0.030101</td>\n",
       "      <td>0.006279</td>\n",
       "      <td>-0.22641</td>\n",
       "      <td>0.0</td>\n",
       "      <td>1.0</td>\n",
       "      <td>0.0</td>\n",
       "      <td>0.0</td>\n",
       "      <td>0.0</td>\n",
       "    </tr>\n",
       "    <tr>\n",
       "      <th>1</th>\n",
       "      <td>0.736657</td>\n",
       "      <td>-0.738667</td>\n",
       "      <td>0.919063</td>\n",
       "      <td>-0.333939</td>\n",
       "      <td>-0.210769</td>\n",
       "      <td>-0.058484</td>\n",
       "      <td>-0.143658</td>\n",
       "      <td>-0.700476</td>\n",
       "      <td>-0.529451</td>\n",
       "      <td>-0.002772</td>\n",
       "      <td>0.25126</td>\n",
       "      <td>1.0</td>\n",
       "      <td>0.0</td>\n",
       "      <td>0.0</td>\n",
       "      <td>0.0</td>\n",
       "      <td>0.0</td>\n",
       "    </tr>\n",
       "  </tbody>\n",
       "</table>\n",
       "</div>"
      ],
      "text/plain": [
       "   longitude  latitude  housing_median_age  total_rooms  total_bedrooms  \\\n",
       "0   0.163564 -0.073360            0.440681    -0.337690       -0.378690   \n",
       "1   0.736657 -0.738667            0.919063    -0.333939       -0.210769   \n",
       "\n",
       "   population  households  median_income  rooms_per_household  \\\n",
       "0   -0.276086   -0.390347      -0.791295             0.030101   \n",
       "1   -0.058484   -0.143658      -0.700476            -0.529451   \n",
       "\n",
       "   population_per_household  bedrooms_per_room  <1H OCEAN  INLAND  ISLAND  \\\n",
       "0                  0.006279           -0.22641        0.0     1.0     0.0   \n",
       "1                 -0.002772            0.25126        1.0     0.0     0.0   \n",
       "\n",
       "   NEAR BAY  NEAR OCEAN  \n",
       "0       0.0         0.0  \n",
       "1       0.0         0.0  "
      ]
     },
     "execution_count": 57,
     "metadata": {},
     "output_type": "execute_result"
    }
   ],
   "source": [
    "X_test_tr=pipeline.fit_transform(X_test)\n",
    "X_test_tr=pd.DataFrame(X_test_tr,columns=output_cols)\n",
    "X_test_tr.head(2) # test data after transforming"
   ]
  },
  {
   "cell_type": "code",
   "execution_count": 114,
   "id": "6b83bc9c",
   "metadata": {},
   "outputs": [],
   "source": [
    "# Initialize the result dictionary with empty lists for each key\n",
    "result={\n",
    "    \"models\":[],\n",
    "    \"train_err\":[],\n",
    "    \"test_err\":[],\n",
    "    \"train_acc\":[],\n",
    "    \"test_acc\":[],\n",
    "    \"parameters\":[]\n",
    "}"
   ]
  },
  {
   "cell_type": "code",
   "execution_count": 152,
   "id": "0033ca4c",
   "metadata": {},
   "outputs": [],
   "source": [
    "# Hyper Parameter tuning\n",
    "from sklearn.model_selection import GridSearchCV"
   ]
  },
  {
   "cell_type": "code",
   "execution_count": 153,
   "id": "d8995d65",
   "metadata": {},
   "outputs": [],
   "source": [
    "# Define a list of hyperparameters to search over\n",
    "params=[\n",
    "    {\n",
    "        \"n_estimators\": [10, 50, 100, 200, 300, 500], # The number of trees in the forest\n",
    "        \"max_depth\": [1, 3, 6, 10], # The maximum depth of the tree\n",
    "        \"min_samples_split\": [ 5, 10, 15, 20, 50], # The minimum number of samples required to split an internal node\n",
    "        \"max_features\": [ 2, 3, 5, 7] # The number of features to consider when looking for the best split\n",
    "    }\n",
    "]"
   ]
  },
  {
   "cell_type": "code",
   "execution_count": 155,
   "id": "116da2b8",
   "metadata": {},
   "outputs": [],
   "source": [
    "# GridSearchCV object to search over the hyperparameters\n",
    "grid_search =GridSearchCV(RandomForestRegressor(),param_grid=params,scoring='r2')"
   ]
  },
  {
   "cell_type": "code",
   "execution_count": 156,
   "id": "10fc2e5d",
   "metadata": {},
   "outputs": [
    {
     "data": {
      "text/plain": [
       "GridSearchCV(estimator=RandomForestRegressor(),\n",
       "             param_grid=[{'max_depth': [1, 3, 6, 10],\n",
       "                          'max_features': [2, 3, 5, 7],\n",
       "                          'min_samples_split': [5, 10, 15, 20, 50],\n",
       "                          'n_estimators': [10, 50, 100, 200, 300, 500]}],\n",
       "             scoring='r2')"
      ]
     },
     "execution_count": 156,
     "metadata": {},
     "output_type": "execute_result"
    }
   ],
   "source": [
    "grid_search.fit(X_train_tr,y_train) "
   ]
  },
  {
   "cell_type": "code",
   "execution_count": 157,
   "id": "137d28be",
   "metadata": {},
   "outputs": [
    {
     "name": "stdout",
     "output_type": "stream",
     "text": [
      "RandomForestRegressor(max_depth=10, max_features=7, min_samples_split=5,\n",
      "                      n_estimators=500)\n"
     ]
    }
   ],
   "source": [
    "best_model=grid_search.best_estimator_\n",
    "print(best_model)"
   ]
  },
  {
   "cell_type": "code",
   "execution_count": 159,
   "id": "f4005da4",
   "metadata": {},
   "outputs": [
    {
     "name": "stdout",
     "output_type": "stream",
     "text": [
      "{'max_depth': 10, 'max_features': 7, 'min_samples_split': 5, 'n_estimators': 500}\n"
     ]
    }
   ],
   "source": [
    "# Best hyperparamters\n",
    "best_param=grid_search.best_params_\n",
    "print(best_param)"
   ]
  },
  {
   "cell_type": "code",
   "execution_count": 160,
   "id": "ff043175",
   "metadata": {},
   "outputs": [
    {
     "name": "stdout",
     "output_type": "stream",
     "text": [
      "79.58139683772251\n"
     ]
    }
   ],
   "source": [
    "# Accuracy in percentage \n",
    "acc=grid_search.best_score_\n",
    "print(acc*100) "
   ]
  },
  {
   "cell_type": "code",
   "execution_count": 162,
   "id": "b2a74acc",
   "metadata": {},
   "outputs": [
    {
     "name": "stdout",
     "output_type": "stream",
     "text": [
      "53209.618644039176\n"
     ]
    }
   ],
   "source": [
    "# Use the best model to make predictions on the test data\n",
    "final_predictions=best_model.predict(X_test_tr)\n",
    "# Root Mean Squared Error\n",
    "final_rmse=np.sqrt(mean_squared_error(y_test,final_predictions))\n",
    "print(final_rmse) "
   ]
  },
  {
   "cell_type": "code",
   "execution_count": 175,
   "id": "0cfdea3b",
   "metadata": {},
   "outputs": [
    {
     "data": {
      "text/plain": [
       "array([207177.60521425])"
      ]
     },
     "execution_count": 175,
     "metadata": {},
     "output_type": "execute_result"
    }
   ],
   "source": [
    "# testing with custom input\n",
    "test=pd.DataFrame([[-117.67,34.12,15.0,3162.0,495.0,1145.0,473.0,5.3525,\"INLAND\"]], columns=num_features + nominal_features)\n",
    "test_tr=pipeline.transform(test) # tranforming data\n",
    "predict=best_model.predict(test_tr) # predicting with best model\n",
    "predict"
   ]
  }
 ],
 "metadata": {
  "kernelspec": {
   "display_name": "Python 3 (ipykernel)",
   "language": "python",
   "name": "python3"
  },
  "language_info": {
   "codemirror_mode": {
    "name": "ipython",
    "version": 3
   },
   "file_extension": ".py",
   "mimetype": "text/x-python",
   "name": "python",
   "nbconvert_exporter": "python",
   "pygments_lexer": "ipython3",
   "version": "3.9.7"
  }
 },
 "nbformat": 4,
 "nbformat_minor": 5
}
